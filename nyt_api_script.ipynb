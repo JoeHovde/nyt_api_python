{
 "cells": [
  {
   "cell_type": "code",
   "execution_count": 146,
   "metadata": {},
   "outputs": [],
   "source": [
    "import pandas as pd\n",
    "import requests\n",
    "from pandas.io.json import json_normalize\n",
    "import json\n",
    "import time\n",
    "import datetime\n",
    "import missingno as msno\n",
    "import matplotlib.pyplot as plt"
   ]
  },
  {
   "cell_type": "code",
   "execution_count": 145,
   "metadata": {},
   "outputs": [],
   "source": [
    "now = datetime.datetime.now().strftime('%Y%m%d')  # used in naming the CSV output"
   ]
  },
  {
   "cell_type": "markdown",
   "metadata": {},
   "source": [
    "## Set parameters"
   ]
  },
  {
   "cell_type": "code",
   "execution_count": 171,
   "metadata": {},
   "outputs": [],
   "source": [
    "# what you want to call the filename\n",
    "articles_name = 'coronavirus'"
   ]
  },
  {
   "cell_type": "code",
   "execution_count": 172,
   "metadata": {},
   "outputs": [],
   "source": [
    "api_key = # get yours at https://developer.nytimes.com/\n",
    "api_secret = # it's super easy"
   ]
  },
  {
   "cell_type": "code",
   "execution_count": 174,
   "metadata": {},
   "outputs": [],
   "source": [
    "# filtering by date so I don't have to paginate like crazy. 6 month period looks to have only around 1000 hits\n",
    "BEGIN_DATE=20200601\n",
    "END_DATE=20200701\n",
    "\n",
    "query_text = 'coronavirus'\n",
    "page_number=1\n",
    "section_name = 'Food'\n",
    "type_of_material = 'Recipe'"
   ]
  },
  {
   "cell_type": "markdown",
   "metadata": {},
   "source": [
    "## define functions"
   ]
  },
  {
   "cell_type": "code",
   "execution_count": 149,
   "metadata": {},
   "outputs": [],
   "source": [
    "# creates a URL with specified parameters to call NYT API.\n",
    "# You can play with more filters, this is basic\n",
    "def generate_url(page_number,\n",
    "                 begin_date=BEGIN_DATE,\n",
    "                 end_date=END_DATE,\n",
    "                 query=query_text):\n",
    "    url=(f'http://api.nytimes.com/svc/search/v2/articlesearch.json?'\\\n",
    "     f'q=(\"{query_text}\")&fq=source:(\"The%20New%20York%20Times\")&document_type:(\"article\")&sort=oldest&api-key={api_key}'\\\n",
    "     f'&begin_date={begin_date}&end_date={end_date}&page={page_number}')\n",
    "    return(url)"
   ]
  },
  {
   "cell_type": "code",
   "execution_count": 150,
   "metadata": {},
   "outputs": [],
   "source": [
    "# returns the latest date from the dataframe, to use as the start date for the next API call\n",
    "def get_max_date(df):\n",
    "    max_date = int(str(df['pub_date'].max())[0:10].replace('-',''))\n",
    "    print(f'max date: {max_date}')\n",
    "    return(max_date)"
   ]
  },
  {
   "cell_type": "code",
   "execution_count": 152,
   "metadata": {},
   "outputs": [],
   "source": [
    "#parses JSON into dataframe\n",
    "def get_article_dataframe(r):\n",
    "    df=json_normalize(json.loads(r.text)['response']['docs'])\n",
    "    return(df)"
   ]
  },
  {
   "cell_type": "code",
   "execution_count": 153,
   "metadata": {},
   "outputs": [],
   "source": [
    "# number of 10-article pages to paginate through\n",
    "def get_number_pages(r):\n",
    "    try:\n",
    "        total_articles=json.loads(r.text)['response']['meta']['hits']\n",
    "    except:\n",
    "        total_articles=0\n",
    "    number_pages = round(total_articles / 10)\n",
    "    print(f'number_pages: {number_pages}')\n",
    "    return(number_pages)\n"
   ]
  },
  {
   "cell_type": "markdown",
   "metadata": {},
   "source": [
    "Check how many pages your query returns. There are 10 articles per page"
   ]
  },
  {
   "cell_type": "code",
   "execution_count": 175,
   "metadata": {},
   "outputs": [
    {
     "name": "stdout",
     "output_type": "stream",
     "text": [
      "number_pages: 189\n"
     ]
    },
    {
     "data": {
      "text/plain": [
       "189"
      ]
     },
     "execution_count": 175,
     "metadata": {},
     "output_type": "execute_result"
    }
   ],
   "source": [
    "get_number_pages(requests.get(generate_url(page_number=1)))"
   ]
  },
  {
   "cell_type": "markdown",
   "metadata": {},
   "source": [
    "Gets the number of page to loop through. Consider adding > 0 clause to page length"
   ]
  },
  {
   "cell_type": "code",
   "execution_count": 176,
   "metadata": {},
   "outputs": [],
   "source": [
    "df_list = [] # initializing the list of dataframes we'll output to\n",
    "\n",
    "max_date = BEGIN_DATE # this is initially the starting date for the analysis, it will get updated"
   ]
  },
  {
   "cell_type": "markdown",
   "metadata": {},
   "source": [
    "## Pull the article dataframes"
   ]
  },
  {
   "cell_type": "markdown",
   "metadata": {},
   "source": [
    "Below, looping through all of the pages in the result, 200 at a time. Each time we go through 200 pages, we have to make a new request, and we start the new request at the \"max_date\", the latest date in the previous dataframe. This can take a while since we have to pause each iteration so as not to overload the API"
   ]
  },
  {
   "cell_type": "code",
   "execution_count": 177,
   "metadata": {},
   "outputs": [
    {
     "name": "stdout",
     "output_type": "stream",
     "text": [
      "number_pages: 181\n",
      "page: 1\n",
      "page: 2\n",
      "page: 3\n",
      "page: 4\n",
      "page: 5\n",
      "page: 6\n",
      "page: 7\n",
      "page: 8\n",
      "page: 9\n",
      "page: 10\n",
      "page: 11\n",
      "page: 12\n",
      "page: 13\n",
      "page: 14\n",
      "page: 15\n",
      "page: 16\n",
      "page: 17\n",
      "page: 18\n",
      "page: 19\n",
      "page: 20\n",
      "page: 21\n",
      "page: 22\n",
      "page: 23\n",
      "page: 24\n",
      "page: 25\n",
      "page: 26\n",
      "page: 27\n",
      "page: 28\n",
      "page: 29\n",
      "page: 30\n",
      "page: 31\n",
      "page: 32\n",
      "page: 33\n",
      "page: 34\n",
      "page: 35\n",
      "page: 36\n",
      "page: 37\n",
      "page: 38\n",
      "page: 39\n",
      "page: 40\n",
      "page: 41\n",
      "page: 42\n",
      "page: 43\n",
      "page: 44\n",
      "page: 45\n",
      "page: 46\n",
      "page: 47\n",
      "page: 48\n",
      "page: 49\n",
      "page: 50\n",
      "page: 51\n",
      "page: 52\n",
      "page: 53\n",
      "page: 54\n",
      "page: 55\n",
      "page: 56\n",
      "page: 57\n",
      "page: 58\n",
      "page: 59\n",
      "page: 60\n",
      "page: 61\n",
      "page: 62\n",
      "page: 63\n",
      "page: 64\n",
      "page: 65\n",
      "page: 66\n",
      "page: 67\n",
      "page: 68\n",
      "page: 69\n",
      "page: 70\n",
      "page: 71\n",
      "page: 72\n",
      "page: 73\n",
      "page: 74\n",
      "page: 75\n",
      "page: 76\n",
      "page: 77\n",
      "page: 78\n",
      "page: 79\n",
      "page: 80\n",
      "page: 81\n",
      "page: 82\n",
      "page: 83\n",
      "page: 84\n",
      "page: 85\n",
      "page: 86\n",
      "page: 87\n",
      "page: 88\n",
      "page: 89\n",
      "page: 90\n",
      "page: 91\n",
      "page: 92\n",
      "page: 93\n",
      "page: 94\n",
      "page: 95\n",
      "page: 96\n",
      "page: 97\n",
      "page: 98\n",
      "page: 99\n",
      "page: 100\n",
      "page: 101\n",
      "page: 102\n",
      "page: 103\n",
      "page: 104\n",
      "page: 105\n",
      "page: 106\n",
      "page: 107\n",
      "page: 108\n",
      "page: 109\n",
      "page: 110\n",
      "page: 111\n",
      "page: 112\n",
      "page: 113\n",
      "page: 114\n",
      "page: 115\n",
      "page: 116\n",
      "page: 117\n",
      "page: 118\n",
      "page: 119\n",
      "page: 120\n",
      "page: 121\n",
      "page: 122\n",
      "page: 123\n",
      "page: 124\n",
      "page: 125\n",
      "page: 126\n",
      "page: 127\n",
      "page: 128\n",
      "page: 129\n",
      "page: 130\n",
      "page: 131\n",
      "page: 132\n",
      "page: 133\n",
      "page: 134\n",
      "page: 135\n",
      "page: 136\n",
      "page: 137\n",
      "page: 138\n",
      "page: 139\n",
      "page: 140\n",
      "page: 141\n",
      "page: 142\n",
      "page: 143\n",
      "page: 144\n",
      "page: 145\n",
      "page: 146\n",
      "page: 147\n",
      "page: 148\n",
      "page: 149\n",
      "page: 150\n",
      "page: 151\n",
      "page: 152\n",
      "page: 153\n",
      "page: 154\n",
      "page: 155\n",
      "page: 156\n",
      "page: 157\n",
      "page: 158\n",
      "page: 159\n",
      "page: 160\n",
      "page: 161\n",
      "page: 162\n",
      "page: 163\n",
      "page: 164\n",
      "page: 165\n",
      "page: 166\n",
      "page: 167\n",
      "page: 168\n",
      "page: 169\n",
      "page: 170\n",
      "page: 171\n",
      "page: 172\n",
      "page: 173\n",
      "page: 174\n",
      "page: 175\n",
      "page: 176\n",
      "page: 177\n",
      "page: 178\n",
      "page: 179\n",
      "page: 180\n",
      "max date: 20200627\n",
      "max date: 20200627\n",
      "length dataframe list: 180\n",
      "number_pages: 0\n",
      "max date: 20200627\n",
      "max date: 20200627\n",
      "length dataframe list: 180\n"
     ]
    }
   ],
   "source": [
    "number_pages=1\n",
    "while number_pages > 0:\n",
    "    url=generate_url(page_number=1, begin_date=max_date+1)\n",
    "    r=requests.get(url)    \n",
    "    number_pages=get_number_pages(r)\n",
    "    for i in range(1, min(200,number_pages)):  # 200 because NYT API only lets you paginate through page 200\n",
    "        print(f'page: {i}')\n",
    "        url=generate_url(page_number=i, begin_date=max_date+1)\n",
    "        try:\n",
    "            r=requests.get(url)\n",
    "            df=get_article_dataframe(r)\n",
    "            df_list.append(df)\n",
    "            time.sleep(10)\n",
    "        except:\n",
    "            time.sleep(300) # wait five minutes\n",
    "    max_date = get_max_date(df) \n",
    "    print(f'max date: {max_date}')\n",
    "    print(f'length dataframe list: {len(df_list)}')"
   ]
  },
  {
   "cell_type": "code",
   "execution_count": 186,
   "metadata": {},
   "outputs": [
    {
     "name": "stderr",
     "output_type": "stream",
     "text": [
      "/Users/josephhovde/anaconda3/lib/python3.7/site-packages/ipykernel_launcher.py:1: FutureWarning: Sorting because non-concatenation axis is not aligned. A future version\n",
      "of pandas will change to not sort by default.\n",
      "\n",
      "To accept the future behavior, pass 'sort=False'.\n",
      "\n",
      "To retain the current behavior and silence the warning, pass 'sort=True'.\n",
      "\n",
      "  \"\"\"Entry point for launching an IPython kernel.\n"
     ]
    }
   ],
   "source": [
    "df = pd.concat(df_list)"
   ]
  },
  {
   "cell_type": "code",
   "execution_count": 181,
   "metadata": {},
   "outputs": [],
   "source": [
    "# here, taking only the columns i want to use in analysis\n",
    "write_df = df[['_id', 'abstract', 'byline.original', 'headline.main', 'headline.name', 'headline.print_headline', 'headline.sub',\n",
    "   'lead_paragraph', 'news_desk', 'print_page', 'pub_date', 'snippet', 'word_count']]"
   ]
  },
  {
   "cell_type": "code",
   "execution_count": 182,
   "metadata": {},
   "outputs": [],
   "source": [
    "# casting the date as a date type\n",
    "df['pub_date']=pd.to_datetime(df['pub_date'])"
   ]
  },
  {
   "cell_type": "code",
   "execution_count": 184,
   "metadata": {},
   "outputs": [
    {
     "name": "stdout",
     "output_type": "stream",
     "text": [
      "nyt_coronavirus-20200627.csv\n"
     ]
    }
   ],
   "source": [
    "# making sure the filename is what we want\n",
    "filename = f'nyt_{articles_name}-{now}.csv'\n",
    "print(filename)"
   ]
  },
  {
   "cell_type": "code",
   "execution_count": 185,
   "metadata": {},
   "outputs": [],
   "source": [
    "# save file as a csv\n",
    "write_df.to_csv(filename, index=False)"
   ]
  },
  {
   "cell_type": "markdown",
   "metadata": {},
   "source": [
    "## See trend over time"
   ]
  },
  {
   "cell_type": "code",
   "execution_count": 167,
   "metadata": {},
   "outputs": [],
   "source": [
    "# cut dates different ways so you can see weekly, monthly, yearly trends\n",
    "df['dt']=pd.DatetimeIndex(df['pub_date']).date\n",
    "df['year'] = pd.DatetimeIndex(df['pub_date']).year\n",
    "df['year_month'] = pd.to_datetime(df['pub_date']).dt.to_period('M')\n",
    "df['year_week'] = pd.to_datetime(df['pub_date']).dt.to_period('W')"
   ]
  },
  {
   "cell_type": "code",
   "execution_count": 168,
   "metadata": {},
   "outputs": [
    {
     "data": {
      "text/plain": [
       "<matplotlib.axes._subplots.AxesSubplot at 0x1a1d430d68>"
      ]
     },
     "execution_count": 168,
     "metadata": {},
     "output_type": "execute_result"
    },
    {
     "data": {
      "image/png": "[encoded data removed]",
      "text/plain": [
       "<Figure size 432x288 with 1 Axes>"
      ]
     },
     "metadata": {
      "needs_background": "light"
     },
     "output_type": "display_data"
    }
   ],
   "source": [
    "df.groupby('year_month').count()['headline.print_headline'].plot()"
   ]
  },
  {
   "cell_type": "code",
   "execution_count": 170,
   "metadata": {},
   "outputs": [
    {
     "data": {
      "image/png": "[encoded data removed]",
      "text/plain": [
       "<Figure size 432x288 with 1 Axes>"
      ]
     },
     "metadata": {
      "needs_background": "light"
     },
     "output_type": "display_data"
    }
   ],
   "source": [
    "df.groupby('dt').count()['headline.print_headline'].plot()\n",
    "plt.xticks(rotation=60)\n",
    "plt.show()"
   ]
  }
 ],
 "metadata": {
  "kernelspec": {
   "display_name": "Python 3",
   "language": "python",
   "name": "python3"
  },
  "language_info": {
   "codemirror_mode": {
    "name": "ipython",
    "version": 3
   },
   "file_extension": ".py",
   "mimetype": "text/x-python",
   "name": "python",
   "nbconvert_exporter": "python",
   "pygments_lexer": "ipython3",
   "version": "3.7.1"
  }
 },
 "nbformat": 4,
 "nbformat_minor": 2
}
